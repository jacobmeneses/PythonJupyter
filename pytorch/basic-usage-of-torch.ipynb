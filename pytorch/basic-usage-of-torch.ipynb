{
 "cells": [
  {
   "cell_type": "code",
   "execution_count": 1,
   "metadata": {},
   "outputs": [],
   "source": [
    "import torch\n",
    "import numpy as np"
   ]
  },
  {
   "cell_type": "code",
   "execution_count": 2,
   "metadata": {},
   "outputs": [
    {
     "data": {
      "text/plain": [
       "'1.6.0'"
      ]
     },
     "execution_count": 2,
     "metadata": {},
     "output_type": "execute_result"
    }
   ],
   "source": [
    "torch.__version__"
   ]
  },
  {
   "cell_type": "code",
   "execution_count": 13,
   "metadata": {},
   "outputs": [
    {
     "data": {
      "text/plain": [
       "tensor([[1., 1.],\n",
       "        [1., 1.],\n",
       "        [1., 1.]])"
      ]
     },
     "execution_count": 13,
     "metadata": {},
     "output_type": "execute_result"
    }
   ],
   "source": [
    "# Array of arrays\n",
    "tensor_a = torch.ones(3, 2)\n",
    "tensor_a"
   ]
  },
  {
   "cell_type": "code",
   "execution_count": 10,
   "metadata": {},
   "outputs": [
    {
     "name": "stdout",
     "output_type": "stream",
     "text": [
      "tensor([[3.6658e+33, 4.5743e-41],\n",
      "        [3.6658e+33, 4.5743e-41]])\n"
     ]
    },
    {
     "data": {
      "text/plain": [
       "tensor([[0.6065, 0.3325],\n",
       "        [0.3539, 0.2737]])"
      ]
     },
     "execution_count": 10,
     "metadata": {},
     "output_type": "execute_result"
    }
   ],
   "source": [
    "# Random generated\n",
    "tensor_b = torch.Tensor(2, 2)\n",
    "print(tensor_b)\n",
    "tensor_b.uniform_(0, 1)"
   ]
  },
  {
   "cell_type": "code",
   "execution_count": 11,
   "metadata": {},
   "outputs": [
    {
     "data": {
      "text/plain": [
       "tensor([[0.4238, 0.6683],\n",
       "        [0.8460, 0.3962]])"
      ]
     },
     "execution_count": 11,
     "metadata": {},
     "output_type": "execute_result"
    }
   ],
   "source": [
    "# Random generated\n",
    "tensor_c = torch.rand(2, 2)\n",
    "tensor_c"
   ]
  },
  {
   "cell_type": "code",
   "execution_count": 12,
   "metadata": {},
   "outputs": [
    {
     "data": {
      "text/plain": [
       "tensor([[1.0303, 1.0009],\n",
       "        [1.1999, 0.6699]])"
      ]
     },
     "execution_count": 12,
     "metadata": {},
     "output_type": "execute_result"
    }
   ],
   "source": [
    "# Operation\n",
    "result = tensor_b + tensor_c\n",
    "result"
   ]
  },
  {
   "cell_type": "code",
   "execution_count": 29,
   "metadata": {},
   "outputs": [
    {
     "data": {
      "text/plain": [
       "tensor([[1.0303, 1.0009, 3.0000],\n",
       "        [1.1999, 0.6699, 3.0000],\n",
       "        [2.0303, 2.0009, 3.0000],\n",
       "        [2.1999, 2.6699, 3.0000]])"
      ]
     },
     "execution_count": 29,
     "metadata": {},
     "output_type": "execute_result"
    }
   ],
   "source": [
    "# Harcoded\n",
    "result_two = torch.tensor(\n",
    "    [\n",
    "        [1.0303, 1.0009, 3],\n",
    "        [1.1999, 0.6699, 3],\n",
    "        [2.0303, 2.0009, 3],\n",
    "        [2.1999, 2.6699, 3],\n",
    "    ])\n",
    "result_two"
   ]
  },
  {
   "cell_type": "code",
   "execution_count": 30,
   "metadata": {},
   "outputs": [
    {
     "data": {
      "text/plain": [
       "torch.Size([4, 3])"
      ]
     },
     "execution_count": 30,
     "metadata": {},
     "output_type": "execute_result"
    }
   ],
   "source": [
    "result_two.shape"
   ]
  },
  {
   "cell_type": "code",
   "execution_count": 34,
   "metadata": {},
   "outputs": [
    {
     "data": {
      "text/plain": [
       "tensor([[1.0303, 1.0009, 3.0000, 1.1999],\n",
       "        [0.6699, 3.0000, 2.0303, 2.0009],\n",
       "        [3.0000, 2.1999, 2.6699, 3.0000]])"
      ]
     },
     "execution_count": 34,
     "metadata": {},
     "output_type": "execute_result"
    }
   ],
   "source": [
    "reshaped = result_two.view(3,4)\n",
    "reshaped"
   ]
  },
  {
   "cell_type": "code",
   "execution_count": 35,
   "metadata": {},
   "outputs": [
    {
     "name": "stdout",
     "output_type": "stream",
     "text": [
      "tensor([[1., 2.],\n",
      "        [3., 4.]])\n",
      "tensor([[1.0000, 2.5000],\n",
      "        [3.0000, 4.0000]])\n"
     ]
    },
    {
     "data": {
      "text/plain": [
       " 1.0\n",
       " 2.5\n",
       " 3.0\n",
       " 4.0\n",
       "[torch.FloatStorage of size 4]"
      ]
     },
     "execution_count": 35,
     "metadata": {},
     "output_type": "execute_result"
    }
   ],
   "source": [
    "# Index access and replacing value\n",
    "points = torch.tensor([[1.0, 2.0],[3.0, 4.0]])\n",
    "print(points)\n",
    "points[0][1] = 2.5\n",
    "print(points)\n",
    "points.storage()"
   ]
  },
  {
   "cell_type": "code",
   "execution_count": 36,
   "metadata": {},
   "outputs": [
    {
     "data": {
      "text/plain": [
       "tensor([[-0.6980, -0.5016],\n",
       "        [-0.4351,  0.7546]], dtype=torch.float64)"
      ]
     },
     "execution_count": 36,
     "metadata": {},
     "output_type": "execute_result"
    }
   ],
   "source": [
    "# generating tensor with numpy method\n",
    "numpyArray = np.random.randn(2,2)\n",
    "\n",
    "from_numpy = torch.from_numpy(numpyArray)\n",
    "from_numpy"
   ]
  },
  {
   "cell_type": "code",
   "execution_count": 37,
   "metadata": {},
   "outputs": [],
   "source": [
    "some_data = torch.tensor([\n",
    "    [ 50000, 3.0, 3],\n",
    "    [ 74000, 1.5, 1],\n",
    "    [ 22000, 4.7, 4],\n",
    "    [ 31000, 3.2, 3],\n",
    "    [ 92000, 5.0, 5],\n",
    "])"
   ]
  },
  {
   "cell_type": "code",
   "execution_count": 38,
   "metadata": {},
   "outputs": [
    {
     "data": {
      "text/plain": [
       "tensor(17935.5605)"
      ]
     },
     "execution_count": 38,
     "metadata": {},
     "output_type": "execute_result"
    }
   ],
   "source": [
    "mean_some_data = torch.mean(some_data)\n",
    "mean_some_data"
   ]
  },
  {
   "cell_type": "code",
   "execution_count": 42,
   "metadata": {},
   "outputs": [
    {
     "name": "stdout",
     "output_type": "stream",
     "text": [
      "tensor([5.3800e+04, 3.4800e+00, 3.2000e+00])\n",
      "tensor(53800.) tensor(3.4800) tensor(3.2000)\n"
     ]
    }
   ],
   "source": [
    "mean_some_data_dim_0 = torch.mean(some_data, dim=0)\n",
    "print(mean_some_data_dim_0)\n",
    "print(mean_some_data_dim_0[0], mean_some_data_dim_0[1], mean_some_data_dim_0[2])"
   ]
  },
  {
   "cell_type": "code",
   "execution_count": 57,
   "metadata": {},
   "outputs": [
    {
     "name": "stdout",
     "output_type": "stream",
     "text": [
      "tensor([16668.6660, 24667.5000,  7336.2329, 10335.3994, 30670.0000])\n"
     ]
    }
   ],
   "source": [
    "mean_some_data_dim_1 = torch.mean(some_data, dim=1)\n",
    "print(mean_some_data_dim_1)"
   ]
  },
  {
   "cell_type": "code",
   "execution_count": null,
   "metadata": {},
   "outputs": [],
   "source": []
  }
 ],
 "metadata": {
  "kernelspec": {
   "display_name": "Python 3",
   "language": "python",
   "name": "python3"
  },
  "language_info": {
   "codemirror_mode": {
    "name": "ipython",
    "version": 3
   },
   "file_extension": ".py",
   "mimetype": "text/x-python",
   "name": "python",
   "nbconvert_exporter": "python",
   "pygments_lexer": "ipython3",
   "version": "3.6.9"
  }
 },
 "nbformat": 4,
 "nbformat_minor": 4
}
